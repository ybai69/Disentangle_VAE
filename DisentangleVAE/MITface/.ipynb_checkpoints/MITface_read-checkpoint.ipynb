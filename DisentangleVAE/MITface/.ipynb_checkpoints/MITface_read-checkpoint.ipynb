{
 "cells": [
  {
   "cell_type": "code",
   "execution_count": 24,
   "metadata": {},
   "outputs": [
    {
     "name": "stderr",
     "output_type": "stream",
     "text": [
      "Using TensorFlow backend.\n"
     ]
    }
   ],
   "source": [
    "from __future__ import absolute_import\n",
    "from __future__ import division\n",
    "from __future__ import print_function\n",
    "\n",
    "from keras.layers import Lambda, Input, Dense\n",
    "from keras.models import Model\n",
    "from keras.datasets import mnist\n",
    "from keras.losses import mse, binary_crossentropy\n",
    "from keras.utils import plot_model\n",
    "from keras import backend as K\n",
    "\n",
    "import numpy as np\n",
    "import matplotlib.pyplot as plt\n",
    "import argparse\n",
    "import os\n",
    "from os import listdir\n",
    "from os.path import isfile, join\n"
   ]
  },
  {
   "cell_type": "code",
   "execution_count": 15,
   "metadata": {},
   "outputs": [
    {
     "data": {
      "text/plain": [
       "['MITface/0000_-24_0_0_15_60_1.pgm',\n",
       " 'MITface/0000_-8_0_0_60_0_1.pgm',\n",
       " 'MITface/0000_-12_0_0_30_45_1.pgm',\n",
       " 'MITface/0000_0_0_0_30_60_1.pgm',\n",
       " 'MITface/0000_-8_0_0_30_60_1.pgm',\n",
       " 'MITface/0000_-8_0_0_60_45_1.pgm',\n",
       " 'MITface/0000_0_0_0_45_75_1.pgm',\n",
       " 'MITface/0000_-4_0_0_75_30_1.pgm',\n",
       " 'MITface/0000_-8_0_0_75_60_1.pgm',\n",
       " 'MITface/0000_-16_0_0_60_60_1.pgm',\n",
       " 'MITface/0000_-4_0_0_90_45_1.pgm',\n",
       " 'MITface/0000_-20_0_0_30_75_1.pgm',\n",
       " 'MITface/0000_-12_0_0_90_60_1.pgm',\n",
       " 'MITface/0000_0_0_0_45_60_1.pgm',\n",
       " 'MITface/0000_-8_0_0_75_30_1.pgm',\n",
       " 'MITface/0000_-4_0_0_90_30_1.pgm',\n",
       " 'MITface/0000_-20_0_0_90_45_1.pgm',\n",
       " 'MITface/0000_-12_0_0_75_30_1.pgm',\n",
       " 'MITface/0000_-12_0_0_30_15_1.pgm',\n",
       " 'MITface/0000_0_0_0_75_75_1.pgm',\n",
       " 'MITface/0000_-12_0_0_15_45_1.pgm',\n",
       " 'MITface/0000_-20_0_0_60_60_1.pgm',\n",
       " 'MITface/0000_-8_0_0_60_15_1.pgm',\n",
       " 'MITface/0000_-16_0_0_45_30_1.pgm',\n",
       " 'MITface/0000_-20_0_0_30_0_1.pgm',\n",
       " 'MITface/0000_-4_0_0_90_60_1.pgm',\n",
       " 'MITface/0000_0_0_0_45_15_1.pgm',\n",
       " 'MITface/0000_-16_0_0_30_75_1.pgm',\n",
       " 'MITface/0000_0_0_0_60_75_1.pgm',\n",
       " 'MITface/0000_0_0_0_75_0_1.pgm',\n",
       " 'MITface/0000_0_0_0_15_30_1.pgm',\n",
       " 'MITface/0000_-12_0_0_75_0_1.pgm',\n",
       " 'MITface/0000_-24_0_0_15_0_1.pgm',\n",
       " 'MITface/0000_-20_0_0_60_30_1.pgm',\n",
       " 'MITface/0000_-8_0_0_45_60_1.pgm',\n",
       " 'MITface/0000_-12_0_0_90_15_1.pgm',\n",
       " 'MITface/0000_-8_0_0_30_45_1.pgm',\n",
       " 'MITface/0000_-12_0_0_15_15_1.pgm',\n",
       " 'MITface/0000_0_0_0_60_0_1.pgm',\n",
       " 'MITface/0000_0_0_0_90_75_1.pgm',\n",
       " 'MITface/0000_-16_0_0_60_15_1.pgm',\n",
       " 'MITface/0000_-16_0_0_75_15_1.pgm',\n",
       " 'MITface/0000_-16_0_0_45_45_1.pgm',\n",
       " 'MITface/0000_-24_0_0_60_75_1.pgm',\n",
       " 'MITface/0000_-20_0_0_90_60_1.pgm',\n",
       " 'MITface/0000_-24_0_0_60_45_1.pgm',\n",
       " 'MITface/0000_-20_0_0_45_15_1.pgm',\n",
       " 'MITface/0000_-16_0_0_60_75_1.pgm',\n",
       " 'MITface/0000_-20_0_0_90_75_1.pgm',\n",
       " 'MITface/0000_0_0_0_30_0_1.pgm',\n",
       " 'MITface/0000_-12_0_0_45_60_1.pgm',\n",
       " 'MITface/0000_-12_0_0_30_60_1.pgm',\n",
       " 'MITface/0000_-24_0_0_30_0_1.pgm',\n",
       " 'MITface/0000_-8_0_0_75_45_1.pgm',\n",
       " 'MITface/0000_-16_0_0_75_45_1.pgm',\n",
       " 'MITface/0000_-16_0_0_15_30_1.pgm',\n",
       " 'MITface/0000_-20_0_0_45_45_1.pgm',\n",
       " 'MITface/0000_0_0_0_60_60_1.pgm',\n",
       " 'MITface/0000_-8_0_0_15_30_1.pgm',\n",
       " 'MITface/0000_-4_0_0_75_0_1.pgm',\n",
       " 'MITface/0000_-16_0_0_90_60_1.pgm',\n",
       " 'MITface/0000_-24_0_0_60_30_1.pgm',\n",
       " 'MITface/0000_-12_0_0_60_15_1.pgm',\n",
       " 'MITface/0000_-16_0_0_30_60_1.pgm',\n",
       " 'MITface/0000_-16_0_0_15_60_1.pgm',\n",
       " 'MITface/0000_-8_0_0_30_0_1.pgm',\n",
       " 'MITface/0000_-20_0_0_75_45_1.pgm',\n",
       " 'MITface/0000_-12_0_0_90_75_1.pgm',\n",
       " 'MITface/0000_-24_0_0_15_45_1.pgm',\n",
       " 'MITface/0000_-12_0_0_75_60_1.pgm',\n",
       " 'MITface/0000_-20_0_0_30_45_1.pgm',\n",
       " 'MITface/0000_-8_0_0_90_15_1.pgm',\n",
       " 'MITface/0000_-20_0_0_15_45_1.pgm',\n",
       " 'MITface/0000_-8_0_0_45_75_1.pgm',\n",
       " 'MITface/0000_-16_0_0_90_30_1.pgm',\n",
       " 'MITface/0000_-20_0_0_45_75_1.pgm',\n",
       " 'MITface/0000_-20_0_0_75_30_1.pgm',\n",
       " 'MITface/0000_-16_0_0_90_15_1.pgm',\n",
       " 'MITface/0000_-24_0_0_15_30_1.pgm',\n",
       " 'MITface/0000_-20_0_0_30_60_1.pgm',\n",
       " 'MITface/0000_-12_0_0_60_30_1.pgm',\n",
       " 'MITface/0000_0_0_0_90_0_1.pgm',\n",
       " 'MITface/0000_-16_0_0_45_75_1.pgm',\n",
       " 'MITface/0000_-12_0_0_75_45_1.pgm',\n",
       " 'MITface/0000_0_0_0_60_15_1.pgm',\n",
       " 'MITface/0000_-4_0_0_90_75_1.pgm',\n",
       " 'MITface/0000_-16_0_0_75_0_1.pgm',\n",
       " 'MITface/0000_-12_0_0_45_15_1.pgm',\n",
       " 'MITface/0000_-8_0_0_30_15_1.pgm',\n",
       " 'MITface/0000_-16_0_0_30_30_1.pgm',\n",
       " 'MITface/0000_0_0_0_90_45_1.pgm',\n",
       " 'MITface/0000_0_0_0_75_60_1.pgm',\n",
       " 'MITface/0000_-8_0_0_45_15_1.pgm',\n",
       " 'MITface/0000_-20_0_0_45_30_1.pgm',\n",
       " 'MITface/0000_-8_0_0_45_30_1.pgm',\n",
       " 'MITface/0000_-20_0_0_75_15_1.pgm',\n",
       " 'MITface/0000_-8_0_0_90_30_1.pgm',\n",
       " 'MITface/0000_-8_0_0_60_30_1.pgm',\n",
       " 'MITface/0000_0_0_0_15_45_1.pgm',\n",
       " 'MITface/0000_-8_0_0_75_15_1.pgm',\n",
       " 'MITface/0000_0_0_0_75_15_1.pgm',\n",
       " 'MITface/0000_0_0_0_15_15_1.pgm',\n",
       " 'MITface/0000_-16_0_0_45_0_1.pgm',\n",
       " 'MITface/0000_0_0_0_90_30_1.pgm',\n",
       " 'MITface/0000_-20_0_0_75_0_1.pgm',\n",
       " 'MITface/0000_-12_0_0_45_0_1.pgm',\n",
       " 'MITface/0000_-16_0_0_30_15_1.pgm',\n",
       " 'MITface/0000_-16_0_0_90_45_1.pgm',\n",
       " 'MITface/0000_0_0_0_15_60_1.pgm',\n",
       " 'MITface/0000_0_0_0_90_60_1.pgm',\n",
       " 'MITface/0000_-16_0_0_60_30_1.pgm',\n",
       " 'MITface/0000_0_0_0_75_30_1.pgm',\n",
       " 'MITface/0000_-20_0_0_30_30_1.pgm',\n",
       " 'MITface/0000_-16_0_0_45_15_1.pgm',\n",
       " 'MITface/0000_-20_0_0_15_0_1.pgm',\n",
       " 'MITface/0000_-12_0_0_30_0_1.pgm',\n",
       " 'MITface/0000_-8_0_0_15_75_1.pgm',\n",
       " 'MITface/0000_-24_0_0_60_60_1.pgm',\n",
       " 'MITface/0000_-12_0_0_15_30_1.pgm',\n",
       " 'MITface/0000_0_0_0_30_45_1.pgm',\n",
       " 'MITface/0000_-12_0_0_60_0_1.pgm',\n",
       " 'MITface/0000_-8_0_0_30_75_1.pgm',\n",
       " 'MITface/0000_-12_0_0_45_45_1.pgm',\n",
       " 'MITface/0000_-12_0_0_90_0_1.pgm',\n",
       " 'MITface/0000_-12_0_0_60_45_1.pgm',\n",
       " 'MITface/0000_-8_0_0_90_45_1.pgm',\n",
       " 'MITface/0000_-20_0_0_15_60_1.pgm',\n",
       " 'MITface/0000_-16_0_0_90_0_1.pgm',\n",
       " 'MITface/0000_-8_0_0_45_45_1.pgm',\n",
       " 'MITface/0000_-12_0_0_30_75_1.pgm',\n",
       " 'MITface/0000_-12_0_0_15_75_1.pgm',\n",
       " 'MITface/0000_-20_0_0_90_30_1.pgm',\n",
       " 'MITface/0000_-8_0_0_15_45_1.pgm',\n",
       " 'MITface/0000_-20_0_0_30_15_1.pgm',\n",
       " 'MITface/0000_0_0_0_60_30_1.pgm',\n",
       " 'MITface/0000_-16_0_0_60_45_1.pgm',\n",
       " 'MITface/0000_-12_0_0_60_60_1.pgm',\n",
       " 'MITface/0000_-20_0_0_15_30_1.pgm',\n",
       " 'MITface/0000_0_0_0_45_0_1.pgm',\n",
       " 'MITface/0000_-20_0_0_75_75_1.pgm',\n",
       " 'MITface/0000_-8_0_0_15_0_1.pgm',\n",
       " 'MITface/0000_-12_0_0_15_0_1.pgm',\n",
       " 'MITface/0000_-8_0_0_15_60_1.pgm',\n",
       " 'MITface/0000_-12_0_0_75_15_1.pgm',\n",
       " 'MITface/0000_-8_0_0_60_75_1.pgm',\n",
       " 'MITface/0000_-16_0_0_15_15_1.pgm',\n",
       " 'MITface/0000_-4_0_0_75_15_1.pgm',\n",
       " 'MITface/0000_-16_0_0_45_60_1.pgm',\n",
       " 'MITface/0000_-12_0_0_30_30_1.pgm',\n",
       " 'MITface/0000_-16_0_0_30_45_1.pgm',\n",
       " 'MITface/0000_-20_0_0_90_15_1.pgm',\n",
       " 'MITface/0000_0_0_0_15_0_1.pgm',\n",
       " 'MITface/0000_-24_0_0_60_0_1.pgm',\n",
       " 'MITface/0000_-16_0_0_15_75_1.pgm',\n",
       " 'MITface/0000_-8_0_0_90_75_1.pgm',\n",
       " 'MITface/0000_-20_0_0_90_0_1.pgm',\n",
       " 'MITface/0000_-20_0_0_60_15_1.pgm',\n",
       " 'MITface/0000_-20_0_0_15_15_1.pgm',\n",
       " 'MITface/0000_0_0_0_60_45_1.pgm',\n",
       " 'MITface/0000_0_0_0_30_15_1.pgm',\n",
       " 'MITface/0000_-20_0_0_60_75_1.pgm',\n",
       " 'MITface/0000_0_0_0_30_30_1.pgm',\n",
       " 'MITface/0000_-16_0_0_75_60_1.pgm',\n",
       " 'MITface/0000_-16_0_0_90_75_1.pgm',\n",
       " 'MITface/0000_0_0_0_45_30_1.pgm',\n",
       " 'MITface/0000_-8_0_0_90_60_1.pgm',\n",
       " 'MITface/0000_-12_0_0_15_60_1.pgm',\n",
       " 'MITface/0000_0_0_0_45_45_1.pgm',\n",
       " 'MITface/0000_-12_0_0_45_30_1.pgm',\n",
       " 'MITface/0000_-20_0_0_45_60_1.pgm',\n",
       " 'MITface/0000_-8_0_0_75_75_1.pgm',\n",
       " 'MITface/0000_-8_0_0_75_0_1.pgm',\n",
       " 'MITface/0000_-12_0_0_90_45_1.pgm',\n",
       " 'MITface/0000_0_0_0_15_75_1.pgm',\n",
       " 'MITface/0000_-12_0_0_60_75_1.pgm',\n",
       " 'MITface/0000_-16_0_0_15_0_1.pgm',\n",
       " 'MITface/0000_-12_0_0_90_30_1.pgm',\n",
       " 'MITface/0000_-16_0_0_15_45_1.pgm',\n",
       " 'MITface/0000_-16_0_0_30_0_1.pgm',\n",
       " 'MITface/0000_0_0_0_30_75_1.pgm',\n",
       " 'MITface/0000_-12_0_0_45_75_1.pgm',\n",
       " 'MITface/0000_-8_0_0_90_0_1.pgm',\n",
       " 'MITface/0000_-20_0_0_15_75_1.pgm',\n",
       " 'MITface/0000_-20_0_0_60_45_1.pgm',\n",
       " 'MITface/0000_-24_0_0_15_75_1.pgm',\n",
       " 'MITface/0000_-16_0_0_75_75_1.pgm',\n",
       " 'MITface/0000_-16_0_0_60_0_1.pgm',\n",
       " 'MITface/0000_-20_0_0_75_60_1.pgm',\n",
       " 'MITface/0000_-8_0_0_60_60_1.pgm',\n",
       " 'MITface/0000_0_0_0_90_15_1.pgm',\n",
       " 'MITface/0000_-8_0_0_15_15_1.pgm',\n",
       " 'MITface/0000_-24_0_0_15_15_1.pgm',\n",
       " 'MITface/0000_-12_0_0_75_75_1.pgm',\n",
       " 'MITface/0000_0_0_0_75_45_1.pgm',\n",
       " 'MITface/0000_-20_0_0_45_0_1.pgm',\n",
       " 'MITface/0000_-8_0_0_45_0_1.pgm',\n",
       " 'MITface/0000_-16_0_0_75_30_1.pgm',\n",
       " 'MITface/0000_-20_0_0_60_0_1.pgm',\n",
       " 'MITface/0000_-4_0_0_60_75_1.pgm',\n",
       " 'MITface/0000_-8_0_0_30_30_1.pgm',\n",
       " 'MITface/0000_-24_0_0_60_15_1.pgm',\n",
       " 'MITface/0000_-24_0_0_75_0_1.pgm']"
      ]
     },
     "execution_count": 15,
     "metadata": {},
     "output_type": "execute_result"
    }
   ],
   "source": [
    "files"
   ]
  },
  {
   "cell_type": "code",
   "execution_count": null,
   "metadata": {},
   "outputs": [],
   "source": []
  },
  {
   "cell_type": "code",
   "execution_count": 16,
   "metadata": {},
   "outputs": [],
   "source": [
    "import re\n",
    "import numpy\n",
    "\n",
    "def read_pgm(filename, byteorder='>'):\n",
    "    \"\"\"Return image data from a raw PGM file as numpy array.\n",
    "\n",
    "    Format specification: http://netpbm.sourceforge.net/doc/pgm.html\n",
    "\n",
    "    \"\"\"\n",
    "    with open(filename, 'rb') as f:\n",
    "        buffer = f.read()\n",
    "    try:\n",
    "        header, width, height, maxval = re.search(\n",
    "            b\"(^P5\\s(?:\\s*#.*[\\r\\n])*\"\n",
    "            b\"(\\d+)\\s(?:\\s*#.*[\\r\\n])*\"\n",
    "            b\"(\\d+)\\s(?:\\s*#.*[\\r\\n])*\"\n",
    "            b\"(\\d+)\\s(?:\\s*#.*[\\r\\n]\\s)*)\", buffer).groups()\n",
    "    except AttributeError:\n",
    "        raise ValueError(\"Not a raw PGM file: '%s'\" % filename)\n",
    "    return numpy.frombuffer(buffer,\n",
    "                            dtype='u1' if int(maxval) < 256 else byteorder+'u2',\n",
    "                            count=int(width)*int(height),\n",
    "                            offset=len(header)\n",
    "                            ).reshape((int(height), int(width)))\n",
    "\n"
   ]
  },
  {
   "cell_type": "code",
   "execution_count": 20,
   "metadata": {},
   "outputs": [],
   "source": [
    "face=[]\n",
    "\n",
    "for file in files:     \n",
    "    f=read_pgm(file)\n",
    "    face.append(f)\n",
    "    \n",
    "face =np.asarray(face)\n",
    "face.shape"
   ]
  },
  {
   "cell_type": "code",
   "execution_count": 27,
   "metadata": {},
   "outputs": [
    {
     "data": {
      "text/plain": [
       "(202, 200, 200)"
      ]
     },
     "execution_count": 27,
     "metadata": {},
     "output_type": "execute_result"
    }
   ],
   "source": []
  },
  {
   "cell_type": "code",
   "execution_count": 43,
   "metadata": {},
   "outputs": [
    {
     "data": {
      "text/plain": [
       "array([[28, 28, 28, ..., 28, 28, 28],\n",
       "       [28, 28, 28, ..., 28, 28, 28],\n",
       "       [28, 28, 28, ..., 28, 28, 28],\n",
       "       ...,\n",
       "       [28, 28, 28, ..., 28, 28, 28],\n",
       "       [28, 28, 28, ..., 28, 28, 28],\n",
       "       [28, 28, 28, ..., 28, 28, 28]], dtype=uint8)"
      ]
     },
     "execution_count": 43,
     "metadata": {},
     "output_type": "execute_result"
    }
   ],
   "source": [
    "#aa =read_pgm('0000_-12_0_0_15_0_1.pgm')\n",
    "#aa"
   ]
  },
  {
   "cell_type": "code",
   "execution_count": 47,
   "metadata": {},
   "outputs": [
    {
     "data": {
      "text/plain": [
       "200"
      ]
     },
     "execution_count": 47,
     "metadata": {},
     "output_type": "execute_result"
    }
   ],
   "source": [
    "\n",
    "face = face.astype('float32') / 255.\n",
    "img_rows = face.shape[0]\n",
    "img_cols = face.shape[1]\n",
    "img_cols"
   ]
  },
  {
   "cell_type": "code",
   "execution_count": 54,
   "metadata": {},
   "outputs": [
    {
     "data": {
      "text/plain": [
       "array([[0.10980392, 0.10980392, 0.10980392, ..., 0.10980392, 0.10980392,\n",
       "        0.10980392],\n",
       "       [0.10980392, 0.10980392, 0.10980392, ..., 0.10980392, 0.10980392,\n",
       "        0.10980392],\n",
       "       [0.10980392, 0.10980392, 0.10980392, ..., 0.10980392, 0.10980392,\n",
       "        0.10980392],\n",
       "       ...,\n",
       "       [0.10980392, 0.10980392, 0.10980392, ..., 0.10980392, 0.10980392,\n",
       "        0.10980392],\n",
       "       [0.10980392, 0.10980392, 0.10980392, ..., 0.10980392, 0.10980392,\n",
       "        0.10980392],\n",
       "       [0.10980392, 0.10980392, 0.10980392, ..., 0.10980392, 0.10980392,\n",
       "        0.10980392]], dtype=float32)"
      ]
     },
     "execution_count": 54,
     "metadata": {},
     "output_type": "execute_result"
    }
   ],
   "source": [
    "aa"
   ]
  },
  {
   "cell_type": "code",
   "execution_count": 56,
   "metadata": {},
   "outputs": [
    {
     "data": {
      "text/plain": [
       "array([0.10980392, 0.10980392, 0.10980392, 0.10980392, 0.10980392,\n",
       "       0.10980392, 0.10980392, 0.10980392, 0.10980392, 0.10980392,\n",
       "       0.10980392, 0.10980392, 0.10980392, 0.10980392, 0.10980392,\n",
       "       0.10980392, 0.10980392, 0.10980392, 0.10980392, 0.10980392,\n",
       "       0.10980392, 0.10980392, 0.10980392, 0.10980392, 0.10980392,\n",
       "       0.10980392, 0.10980392, 0.10980392, 0.10980392, 0.10980392,\n",
       "       0.10980392, 0.10980392, 0.10980392, 0.10980392, 0.10980392,\n",
       "       0.10980392, 0.10980392, 0.10980392, 0.10980392, 0.10980392,\n",
       "       0.10980392, 0.10980392, 0.10980392, 0.10980392, 0.10980392,\n",
       "       0.10980392, 0.10980392, 0.33333334, 0.34117648, 0.35686275,\n",
       "       0.38039216, 0.4       , 0.41960785, 0.4627451 , 0.4627451 ,\n",
       "       0.49803922, 0.5058824 , 0.53333336, 0.5176471 , 0.5372549 ,\n",
       "       0.5372549 , 0.52156866, 0.54509807, 0.54509807, 0.54509807,\n",
       "       0.53333336, 0.5137255 , 0.50980395, 0.5058824 , 0.4392157 ,\n",
       "       0.33333334, 0.27450982, 0.39215687, 0.41960785, 0.39215687,\n",
       "       0.3529412 , 0.33333334, 0.34509805, 0.38039216, 0.45490196,\n",
       "       0.5254902 , 0.6117647 , 0.6313726 , 0.6392157 , 0.65882355,\n",
       "       0.69803923, 0.7176471 , 0.72156864, 0.69803923, 0.6666667 ,\n",
       "       0.6313726 , 0.6392157 , 0.64705884, 0.64705884, 0.6627451 ,\n",
       "       0.68235296, 0.7058824 , 0.7372549 , 0.7411765 , 0.7137255 ,\n",
       "       0.6745098 , 0.627451  , 0.60784316, 0.67058825, 0.68235296,\n",
       "       0.6666667 , 0.69803923, 0.7176471 , 0.7294118 , 0.7411765 ,\n",
       "       0.7490196 , 0.7647059 , 0.73333335, 0.7529412 , 0.7764706 ,\n",
       "       0.7490196 , 0.7647059 , 0.7647059 , 0.76862746, 0.78039217,\n",
       "       0.78039217, 0.7764706 , 0.7764706 , 0.77254903, 0.78431374,\n",
       "       0.7882353 , 0.7647059 , 0.7607843 , 0.76862746, 0.7647059 ,\n",
       "       0.7490196 , 0.75686276, 0.73333335, 0.7529412 , 0.7529412 ,\n",
       "       0.7372549 , 0.70980394, 0.70980394, 0.7254902 , 0.7294118 ,\n",
       "       0.7176471 , 0.7490196 , 0.7294118 , 0.7254902 , 0.73333335,\n",
       "       0.7137255 , 0.70980394, 0.70980394, 0.69803923, 0.70980394,\n",
       "       0.7019608 , 0.69411767, 0.65882355, 0.6431373 , 0.69411767,\n",
       "       0.77254903, 0.79607844, 0.7647059 , 0.7921569 , 0.79607844,\n",
       "       0.70980394, 0.6784314 , 0.6313726 , 0.5803922 , 0.6       ,\n",
       "       0.60784316, 0.61960787, 0.61960787, 0.6392157 , 0.6392157 ,\n",
       "       0.6117647 , 0.10980392, 0.10980392, 0.10980392, 0.10980392,\n",
       "       0.10980392, 0.10980392, 0.10980392, 0.10980392, 0.10980392,\n",
       "       0.10980392, 0.10980392, 0.10980392, 0.10980392, 0.10980392,\n",
       "       0.10980392, 0.10980392, 0.10980392, 0.10980392, 0.10980392,\n",
       "       0.10980392, 0.10980392, 0.10980392, 0.10980392, 0.10980392,\n",
       "       0.10980392, 0.10980392, 0.10980392, 0.10980392, 0.10980392],\n",
       "      dtype=float32)"
      ]
     },
     "execution_count": 56,
     "metadata": {},
     "output_type": "execute_result"
    }
   ],
   "source": [
    "aa[100]"
   ]
  },
  {
   "cell_type": "code",
   "execution_count": 49,
   "metadata": {},
   "outputs": [],
   "source": []
  },
  {
   "cell_type": "code",
   "execution_count": 58,
   "metadata": {},
   "outputs": [
    {
     "data": {
      "text/plain": [
       "<matplotlib.image.AxesImage at 0x7f51ae03ce80>"
      ]
     },
     "execution_count": 58,
     "metadata": {},
     "output_type": "execute_result"
    },
    {
     "data": {
      "image/png": "[encoded data removed]",
      "text/plain": [
       "<Figure size 432x288 with 1 Axes>"
      ]
     },
     "metadata": {
      "needs_background": "light"
     },
     "output_type": "display_data"
    }
   ],
   "source": [
    "\n",
    "\n",
    "plt.imshow(aa)"
   ]
  },
  {
   "cell_type": "code",
   "execution_count": null,
   "metadata": {},
   "outputs": [],
   "source": [
    "# split data into train / validation folds\n",
    "image_size = x_train.shape[1]\n",
    "original_dim = image_size * image_size\n",
    "img_rows = x_train.shape[1]\n",
    "img_cols\n",
    "n_pixels = img_rows * img_cols\n",
    "#x_train = ff[:1800]\n",
    "#x_test = ff[1800:1900]\n",
    "x_train = x_train.astype('float32') / 255.\n",
    "x_test = x_test.astype('float32') / 255.\n",
    "x_train = x_train.reshape((len(x_train), n_pixels))\n",
    "x_test = x_test.reshape((len(x_test), n_pixels))"
   ]
  }
 ],
 "metadata": {
  "kernelspec": {
   "display_name": "Python 3",
   "language": "python",
   "name": "python3"
  },
  "language_info": {
   "codemirror_mode": {
    "name": "ipython",
    "version": 3
   },
   "file_extension": ".py",
   "mimetype": "text/x-python",
   "name": "python",
   "nbconvert_exporter": "python",
   "pygments_lexer": "ipython3",
   "version": "3.6.8"
  }
 },
 "nbformat": 4,
 "nbformat_minor": 2
}
